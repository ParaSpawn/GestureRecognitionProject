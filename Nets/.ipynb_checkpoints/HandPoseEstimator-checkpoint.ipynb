{
 "cells": [
  {
   "cell_type": "code",
   "execution_count": 1,
   "metadata": {
    "ExecuteTime": {
     "end_time": "2020-02-13T02:47:30.215279Z",
     "start_time": "2020-02-13T02:47:15.512761Z"
    }
   },
   "outputs": [],
   "source": [
    "import torchvision\n",
    "import torchvision.transforms as transforms\n",
    "import torch as T\n",
    "import torch.nn as nn\n",
    "import torch.nn.functional as F\n",
    "import torch.optim as optim\n",
    "import matplotlib.pyplot as plt\n",
    "import pandas as pd\n",
    "import numpy as np\n",
    "import re\n",
    "import csv\n",
    "import os\n",
    "import operator\n",
    "from PIL import Image\n",
    "from PIL import ImageDraw"
   ]
  },
  {
   "cell_type": "code",
   "execution_count": null,
   "metadata": {},
   "outputs": [],
   "source": [
    "class HandPoseDataset(T.utils.data.Dataset):\n",
    "    def __init__(self, csv_path, root_path, transform = None):\n",
    "        self.root_path = root_path\n",
    "        self.csv_data = pd.read_csv(csv_path)\n",
    "        self.transform = transform\n",
    "\n",
    "    def __len__(self):\n",
    "        return len(self.csv_data)\n",
    "\n",
    "    def __getitem__(self, i):\n",
    "        img_name = 'Path' + self.csv_data.iloc[i, 0]\n",
    "        image = Image.open(img_name)\n",
    "        if self.transform:\n",
    "            image = self.transform(image)\n",
    "        pose = np.array(self.csv_data.iloc[i, 1:])\n",
    "        return image, pose"
   ]
  },
  {
   "cell_type": "code",
   "execution_count": null,
   "metadata": {},
   "outputs": [],
   "source": [
    "class RandomImageDataset(T.utils.data.Dataset):\n",
    "    def __init__(self, root_path, transform = None):\n",
    "        self.root_path = root_path\n",
    "        self.transform = transform\n",
    "\n",
    "    def __len__(self):\n",
    "        return len(os.listdir(self.root_path))\n",
    "\n",
    "    def __getitem__(self, i):\n",
    "        img = Image.open(os.listdir(self.root_path)[i])\n",
    "        tr = transforms.Compose([transforms.res])\n",
    "        if self.transform:\n",
    "            img = self.transform(img)\n",
    "        return img, [[0, 0] for _ in range(11)]"
   ]
  },
  {
   "cell_type": "code",
   "execution_count": null,
   "metadata": {},
   "outputs": [],
   "source": [
    "class MergedDataset(T.utils.data.Dataset):\n",
    "    def __init__(self, hand_pose_datsset: T.utils.data.Dataset, random_image_dataset: T.utils.data.Dataset, random_seed_1, random_seed_2, transform = None):\n",
    "        self.hand_pose_datsset = hand_pose_datsset\n",
    "        self.random_image_dataset = random_image_dataset\n",
    "        self.left_indices = list(*range(len(self.hand_pose_datsset) + len(self.random_image_dataset)))\n",
    "        self.right_indices = list(*range(len(self.left_indices)))\n",
    "        self.transform = transform\n",
    "        np.random.seed(random_seed_1)\n",
    "        np.random.shuffle(self.left_indices)\n",
    "        np.random.seed(random_seed_2)\n",
    "        np.random.shuffle(self.right_indices)\n",
    "    \n",
    "    def __len__(self):\n",
    "        return len(self.left_indices)\n",
    "\n",
    "    def __getitem__(self, i):\n",
    "        ind_l = self.left_indices[i]\n",
    "        ind_r = self.right_indices[i]\n",
    "        image_l, pose_l = self.hand_pose_datsset[ind_l] if ind_l < len(self.hand_pose_datsset) else self.random_image_dataset[ind_l - len(self.hand_pose_datsset)]\n",
    "        image_r, pose_r = self.hand_pose_datsset[ind_r] if ind_r < len(self.hand_pose_datsset) else self.random_image_dataset[ind_r - len(self.hand_pose_datsset)]\n",
    "        img = None\n",
    "        pose = None\n",
    "        # img = image_l + image_r # merge images\n",
    "        pose = pose_l + pose_r\n",
    "        return img, pose"
   ]
  },
  {
   "cell_type": "code",
   "execution_count": null,
   "metadata": {},
   "outputs": [],
   "source": [
    "def merge(img1, img2, shift):\n",
    "    # compute the size of the panorama\n",
    "    nw, nh = map(max, map(operator.add, img2.size, shift), img1.size)\n",
    "\n",
    "    # paste img1 on top of img2\n",
    "    newimg1 = Image.new('RGBA', size=(nw, nh), color=(0, 0, 0, 0))\n",
    "    newimg1.paste(img2, shift)\n",
    "    newimg1.paste(img1, (0, 0))\n",
    "\n",
    "    # paste img2 on top of img1\n",
    "    newimg2 = Image.new('RGBA', size=(nw, nh), color=(0, 0, 0, 0))\n",
    "    newimg2.paste(img1, (0, 0))\n",
    "    newimg2.paste(img2, shift)\n",
    "\n",
    "    # blend with alpha=0.5\n",
    "    result = Image.blend(newimg1, newimg2, alpha=0.5)\n",
    "    return result"
   ]
  }
 ],
 "metadata": {
  "kernelspec": {
   "display_name": "Python 3",
   "language": "python",
   "name": "python3"
  },
  "language_info": {
   "codemirror_mode": {
    "name": "ipython",
    "version": 3
   },
   "file_extension": ".py",
   "mimetype": "text/x-python",
   "name": "python",
   "nbconvert_exporter": "python",
   "pygments_lexer": "ipython3",
   "version": "3.7.6"
  }
 },
 "nbformat": 4,
 "nbformat_minor": 4
}
